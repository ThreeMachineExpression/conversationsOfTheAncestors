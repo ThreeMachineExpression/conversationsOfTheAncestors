{
  "nbformat": 4,
  "nbformat_minor": 0,
  "metadata": {
    "colab": {
      "name": "ManyHALs.ipynb",
      "provenance": [],
      "authorship_tag": "ABX9TyP9+DhMGRtPWoxIWF2nvNIh",
      "include_colab_link": true
    },
    "kernelspec": {
      "name": "python3",
      "display_name": "Python 3"
    }
  },
  "cells": [
    {
      "cell_type": "markdown",
      "metadata": {
        "id": "view-in-github",
        "colab_type": "text"
      },
      "source": [
        "<a href=\"https://colab.research.google.com/github/ThreeMachineExpression/conversationsOfTheAncestors/blob/main/ManyHALs.ipynb\" target=\"_parent\"><img src=\"https://colab.research.google.com/assets/colab-badge.svg\" alt=\"Open In Colab\"/></a>"
      ]
    },
    {
      "cell_type": "code",
      "metadata": {
        "colab": {
          "base_uri": "https://localhost:8080/"
        },
        "id": "lF4z825uVwPt",
        "outputId": "17097621-9d14-41fa-9afc-933e8669c678"
      },
      "source": [
        "#setup\r\n",
        "\r\n",
        "kMegaHALGitHubRepo = \"https://github.com/ThreeMachineExpression/megahal-py.git\"\r\n",
        "\r\n",
        "!git clone {kMegaHALGitHubRepo}\r\n",
        "%cd megahal-py\r\n",
        "!mkdir \"/content/brains/\"\r\n",
        "\r\n",
        "import megahal\r\n",
        "\r\n",
        "ancestorNames = [\"Emily\", \"Virginia\", \"Walt\", \"Vincent\", \"Kate\", \"Oscar\", \"Richard\"]\r\n",
        "ancestorSpirits = {name : megahal.MegaHAL(brainfile = \"/content/brains/\" + name) for name in ancestorNames}"
      ],
      "execution_count": 1,
      "outputs": [
        {
          "output_type": "stream",
          "text": [
            "Cloning into 'megahal-py'...\n",
            "remote: Enumerating objects: 15, done.\u001b[K\n",
            "remote: Counting objects: 100% (15/15), done.\u001b[K\n",
            "remote: Compressing objects: 100% (15/15), done.\u001b[K\n",
            "remote: Total 28 (delta 8), reused 0 (delta 0), pack-reused 13\u001b[K\n",
            "Unpacking objects: 100% (28/28), done.\n",
            "/content/megahal-py\n"
          ],
          "name": "stdout"
        }
      ]
    },
    {
      "cell_type": "code",
      "metadata": {
        "colab": {
          "base_uri": "https://localhost:8080/"
        },
        "id": "D_4K-NWEOwZF",
        "outputId": "9adb4b21-52c5-4bfe-e1b6-29a56ea5ed16"
      },
      "source": [
        "# train brains\r\n",
        "\r\n",
        "for spirit in ancestorSpirits:\r\n",
        "  ancestorSpirits[spirit].train(\"/content/DickinsonPoemsProcessed.txt\")\r\n",
        "\r\n",
        "ancestorSpirits[\"Emily\"].interact()"
      ],
      "execution_count": 2,
      "outputs": [
        {
          "output_type": "stream",
          "text": [
            ">>> Hello, Emily.\n",
            "The dying need but little, dear,  a glass of water's all, a flower's unobtrusive face to face to be; after a life, a death we'll say,  for death was that, and this third volume of emily dickinson third series edited by two of her attention like stone.\n",
            ">>> Would you like some water?\n",
            "Her bonnet is the seal, despair,  an imperial affliction sent us of the finer want, whose adequate supply is that great water in the skies of independent hues, a little water supplicate of fingers going by.\n",
            ">>> \u0004\n"
          ],
          "name": "stdout"
        }
      ]
    },
    {
      "cell_type": "code",
      "metadata": {
        "colab": {
          "base_uri": "https://localhost:8080/"
        },
        "id": "VJwM0RgUB34D",
        "outputId": "152cbc5e-2105-49cb-f634-f9c3003eb2a8"
      },
      "source": [
        "!ls ../brains/ -l\r\n"
      ],
      "execution_count": 6,
      "outputs": [
        {
          "output_type": "stream",
          "text": [
            "total 56\n",
            "-rw-r--r-- 1 root root 12288 Jan 17 21:35 Emily.db\n",
            "-rw-r--r-- 1 root root 12288 Jan 17 21:35 Kate.db\n",
            "-rw-r--r-- 1 root root 12288 Jan 17 21:35 Oscar.db\n",
            "-rw-r--r-- 1 root root 12288 Jan 17 21:35 Richard.db\n",
            "-rw-r--r-- 1 root root 12288 Jan 17 21:35 Vincent.db\n",
            "-rw-r--r-- 1 root root 12288 Jan 17 21:35 Virginia.db\n",
            "-rw-r--r-- 1 root root 12288 Jan 17 21:35 Walt.db\n"
          ],
          "name": "stdout"
        }
      ]
    }
  ]
}